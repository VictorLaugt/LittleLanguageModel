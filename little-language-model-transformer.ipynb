{
 "cells": [
  {
   "cell_type": "code",
   "execution_count": 1,
   "metadata": {},
   "outputs": [],
   "source": [
    "import torch\n",
    "from torch.optim import SGD, Adam\n",
    "from torch.optim.lr_scheduler import ReduceLROnPlateau, CyclicLR\n",
    "\n",
    "import matplotlib.pyplot as plt\n",
    "import numpy as np\n",
    "from pathlib import Path"
   ]
  },
  {
   "cell_type": "code",
   "execution_count": 2,
   "metadata": {},
   "outputs": [],
   "source": [
    "%load_ext autoreload\n",
    "%autoreload 2\n",
    "\n",
    "from llm.data import load_dataset, text_to_tensor, tensor_to_text\n",
    "from llm.training import TransformerLMTrainingLoop, TrainingLogs\n",
    "from llm.transformer import CharGenerativeTransformer"
   ]
  },
  {
   "cell_type": "code",
   "execution_count": 3,
   "metadata": {},
   "outputs": [],
   "source": [
    "device = torch.device('cuda' if torch.cuda.is_available() else 'cpu')\n",
    "cpu = torch.device('cpu')"
   ]
  },
  {
   "cell_type": "code",
   "execution_count": 4,
   "metadata": {},
   "outputs": [
    {
     "name": "stdout",
     "output_type": "stream",
     "text": [
      "Train dataset length:      2000000 characters\n",
      "Validation dataset length: 579949 characters\n"
     ]
    }
   ],
   "source": [
    "(train_dataset, valid_dataset), ctoi, itoc = load_dataset(\n",
    "    Path(\"dataset\", \"lotr.txt\"), slice(0, 2_000_000), slice(2_000_000, None)\n",
    ")\n",
    "\n",
    "print(f\"Train dataset length:      {len(train_dataset)} characters\")\n",
    "print(f\"Validation dataset length: {len(valid_dataset)} characters\")"
   ]
  },
  {
   "cell_type": "code",
   "execution_count": 5,
   "metadata": {},
   "outputs": [
    {
     "name": "stdout",
     "output_type": "stream",
     "text": [
      "CharGenerativeTransformer(\n",
      "  (token_embedding): Embedding(96, 64)\n",
      "  (position_embedding): Embedding(512, 64)\n",
      "  (encoder_layer): TransformerEncoderLayer(\n",
      "    (self_attn): MultiheadAttention(\n",
      "      (out_proj): NonDynamicallyQuantizableLinear(in_features=64, out_features=64, bias=True)\n",
      "    )\n",
      "    (linear1): Linear(in_features=64, out_features=256, bias=True)\n",
      "    (dropout): Dropout(p=0.1, inplace=False)\n",
      "    (linear2): Linear(in_features=256, out_features=64, bias=True)\n",
      "    (norm1): LayerNorm((64,), eps=1e-05, elementwise_affine=True)\n",
      "    (norm2): LayerNorm((64,), eps=1e-05, elementwise_affine=True)\n",
      "    (dropout1): Dropout(p=0.1, inplace=False)\n",
      "    (dropout2): Dropout(p=0.1, inplace=False)\n",
      "  )\n",
      "  (encoder): TransformerEncoder(\n",
      "    (layers): ModuleList(\n",
      "      (0-3): 4 x TransformerEncoderLayer(\n",
      "        (self_attn): MultiheadAttention(\n",
      "          (out_proj): NonDynamicallyQuantizableLinear(in_features=64, out_features=64, bias=True)\n",
      "        )\n",
      "        (linear1): Linear(in_features=64, out_features=256, bias=True)\n",
      "        (dropout): Dropout(p=0.1, inplace=False)\n",
      "        (linear2): Linear(in_features=256, out_features=64, bias=True)\n",
      "        (norm1): LayerNorm((64,), eps=1e-05, elementwise_affine=True)\n",
      "        (norm2): LayerNorm((64,), eps=1e-05, elementwise_affine=True)\n",
      "        (dropout1): Dropout(p=0.1, inplace=False)\n",
      "        (dropout2): Dropout(p=0.1, inplace=False)\n",
      "      )\n",
      "    )\n",
      "  )\n",
      "  (linear): Linear(in_features=64, out_features=96, bias=True)\n",
      ")\n",
      "Number of parameters: 295072\n"
     ]
    },
    {
     "name": "stderr",
     "output_type": "stream",
     "text": [
      "/home/victor/miniconda3/envs/ml-pytorch/lib/python3.11/site-packages/torch/nn/modules/transformer.py:286: UserWarning: enable_nested_tensor is True, but self.use_nested_tensor is False because encoder_layer.self_attn.batch_first was not True(use batch_first for better inference performance)\n",
      "  warnings.warn(f\"enable_nested_tensor is True, but self.use_nested_tensor is False because {why_not_sparsity_fast_path}\")\n"
     ]
    }
   ],
   "source": [
    "sequence_length = 512\n",
    "\n",
    "model = CharGenerativeTransformer(\n",
    "    vocab_size=len(ctoi),\n",
    "    seq_length=sequence_length,\n",
    "    embedding_dim=64,\n",
    "    latent_dim=256,\n",
    "    n_heads=8,\n",
    "    n_layers=4\n",
    ")\n",
    "\n",
    "print(model)\n",
    "print(f\"Number of parameters: {sum(p.numel() for p in model.parameters())}\")"
   ]
  },
  {
   "cell_type": "code",
   "execution_count": 6,
   "metadata": {},
   "outputs": [
    {
     "name": "stdout",
     "output_type": "stream",
     "text": [
      "Adam (\n",
      "Parameter Group 0\n",
      "    amsgrad: False\n",
      "    betas: (0.9, 0.999)\n",
      "    capturable: False\n",
      "    differentiable: False\n",
      "    eps: 1e-08\n",
      "    foreach: None\n",
      "    fused: None\n",
      "    lr: 0.001\n",
      "    maximize: False\n",
      "    weight_decay: 0\n",
      ")\n"
     ]
    }
   ],
   "source": [
    "optimizer = Adam(model.parameters(), lr=1e-3)\n",
    "scheduler = ReduceLROnPlateau(optimizer, factor=0.8, patience=25)\n",
    "\n",
    "print(optimizer)"
   ]
  },
  {
   "cell_type": "code",
   "execution_count": 7,
   "metadata": {},
   "outputs": [
    {
     "name": "stdout",
     "output_type": "stream",
     "text": [
      "Training on device cuda\n",
      "epoch     0/999: train loss = 2.819225, valid loss = 2.489055, learning rate = 0.001\n"
     ]
    },
    {
     "ename": "KeyboardInterrupt",
     "evalue": "",
     "output_type": "error",
     "traceback": [
      "\u001b[0;31m---------------------------------------------------------------------------\u001b[0m",
      "\u001b[0;31mKeyboardInterrupt\u001b[0m                         Traceback (most recent call last)",
      "Cell \u001b[0;32mIn[7], line 12\u001b[0m\n\u001b[1;32m      5\u001b[0m training_loop \u001b[38;5;241m=\u001b[39m TransformerLMTrainingLoop(\n\u001b[1;32m      6\u001b[0m     device, n_epochs, sequence_length, batch_size,\n\u001b[1;32m      7\u001b[0m     train_dataset, valid_dataset,\n\u001b[1;32m      8\u001b[0m     model, optimizer, scheduler\n\u001b[1;32m      9\u001b[0m )\n\u001b[1;32m     11\u001b[0m \u001b[38;5;28;01mwith\u001b[39;00m TrainingLogs() \u001b[38;5;28;01mas\u001b[39;00m logs:\n\u001b[0;32m---> 12\u001b[0m     training_loop\u001b[38;5;241m.\u001b[39mrun(logs)\n",
      "File \u001b[0;32m~/Documents/MyPrograms/PythonPrograms/IA/little-language-model.git/llm/training.py:98\u001b[0m, in \u001b[0;36mAbstractLMTrainingLoop.run\u001b[0;34m(self, logs)\u001b[0m\n\u001b[1;32m     96\u001b[0m \u001b[38;5;28mprint\u001b[39m(\u001b[38;5;124mf\u001b[39m\u001b[38;5;124m\"\u001b[39m\u001b[38;5;124mTraining on device \u001b[39m\u001b[38;5;132;01m{\u001b[39;00m\u001b[38;5;28mself\u001b[39m\u001b[38;5;241m.\u001b[39mdevice\u001b[38;5;132;01m}\u001b[39;00m\u001b[38;5;124m\"\u001b[39m)\n\u001b[1;32m     97\u001b[0m \u001b[38;5;28;01mfor\u001b[39;00m epoch \u001b[38;5;129;01min\u001b[39;00m \u001b[38;5;28mrange\u001b[39m(\u001b[38;5;28mself\u001b[39m\u001b[38;5;241m.\u001b[39mn_epochs):\n\u001b[0;32m---> 98\u001b[0m     train_loss \u001b[38;5;241m=\u001b[39m \u001b[38;5;28mself\u001b[39m\u001b[38;5;241m.\u001b[39mtrain()\n\u001b[1;32m     99\u001b[0m     valid_loss \u001b[38;5;241m=\u001b[39m \u001b[38;5;28mself\u001b[39m\u001b[38;5;241m.\u001b[39mevaluate()\n\u001b[1;32m    100\u001b[0m     lr \u001b[38;5;241m=\u001b[39m \u001b[38;5;28mself\u001b[39m\u001b[38;5;241m.\u001b[39mupdate_lr(valid_loss)\n",
      "File \u001b[0;32m~/Documents/MyPrograms/PythonPrograms/IA/little-language-model.git/llm/training.py:181\u001b[0m, in \u001b[0;36mTransformerLMTrainingLoop.train\u001b[0;34m(self)\u001b[0m\n\u001b[1;32m    178\u001b[0m     \u001b[38;5;28mself\u001b[39m\u001b[38;5;241m.\u001b[39moptimizer\u001b[38;5;241m.\u001b[39mstep()\n\u001b[1;32m    180\u001b[0m     n_tokens \u001b[38;5;241m=\u001b[39m input_seq\u001b[38;5;241m.\u001b[39mnumel()\n\u001b[0;32m--> 181\u001b[0m     epoch_loss \u001b[38;5;241m+\u001b[39m\u001b[38;5;241m=\u001b[39m loss\u001b[38;5;241m.\u001b[39mitem() \u001b[38;5;241m*\u001b[39m n_tokens\n\u001b[1;32m    182\u001b[0m     token_count \u001b[38;5;241m+\u001b[39m\u001b[38;5;241m=\u001b[39m n_tokens\n\u001b[1;32m    184\u001b[0m \u001b[38;5;28;01mreturn\u001b[39;00m epoch_loss \u001b[38;5;241m/\u001b[39m token_count\n",
      "\u001b[0;31mKeyboardInterrupt\u001b[0m: "
     ]
    }
   ],
   "source": [
    "n_epochs = 1000\n",
    "batch_size = 32\n",
    "# batch_size = 16\n",
    "\n",
    "training_loop = TransformerLMTrainingLoop(\n",
    "    device, n_epochs, sequence_length, batch_size,\n",
    "    train_dataset, valid_dataset,\n",
    "    model, optimizer, scheduler\n",
    ")\n",
    "\n",
    "with TrainingLogs() as logs:\n",
    "    training_loop.run(logs)"
   ]
  },
  {
   "cell_type": "code",
   "execution_count": 8,
   "metadata": {},
   "outputs": [],
   "source": [
    "def display_training_review(train_losses, valid_losses=None, learning_rates=None):\n",
    "    fig, ax = plt.subplots()\n",
    "\n",
    "    ax.set_title(\"Cross entropy over the epochs\")\n",
    "    ax.plot(train_losses, label=\"train loss\")\n",
    "    if valid_losses is not None:\n",
    "        ax.plot(valid_losses, label=\"valid loss\")\n",
    "        best_valid_epoch = np.argmin(valid_losses)\n",
    "        best_valid = valid_losses[best_valid_epoch]\n",
    "        ax.plot(best_valid_epoch, best_valid, 'or')\n",
    "        ax.text(best_valid_epoch, best_valid, f\"({best_valid_epoch}, {best_valid:.6f})\", ha='center', va='top', color='red')\n",
    "    ax.legend(loc='upper right')\n",
    "    ax.set_xlabel(\"epoch\")\n",
    "    ax.set_ylabel(\"loss\")\n",
    "    ax.grid()\n",
    "\n",
    "    if learning_rates is not None:\n",
    "        lr_ax = ax.twinx()\n",
    "        lr_ax.plot(learning_rates, ':r', label='learning rate')\n",
    "        lr_ax.set_xlabel(\"epoch\")\n",
    "        lr_ax.set_ylabel(\"learning rate\")\n",
    "        lr_ax.legend(loc='lower left')\n",
    "\n",
    "    fig.tight_layout()\n",
    "    plt.show()"
   ]
  },
  {
   "cell_type": "code",
   "execution_count": 9,
   "metadata": {},
   "outputs": [
    {
     "name": "stdout",
     "output_type": "stream",
     "text": [
      "Training time: 51 seconds\n"
     ]
    },
    {
     "data": {
      "image/png": "[encoded data removed]",
      "text/plain": [
       "<Figure size 640x480 with 2 Axes>"
      ]
     },
     "metadata": {},
     "output_type": "display_data"
    }
   ],
   "source": [
    "print(f\"Training time: {logs.ellapsed_time:.0f} seconds\")\n",
    "display_training_review(logs.train_loss, logs.valid_loss, logs.lr)"
   ]
  },
  {
   "cell_type": "code",
   "execution_count": 10,
   "metadata": {},
   "outputs": [],
   "source": [
    "def print_prediction_examples(model, test_contexts, n_predictions=80, repeat=4):\n",
    "    model.eval()\n",
    "\n",
    "    with torch.no_grad():\n",
    "        print(\"Deterministic predictions:\")\n",
    "        for context in test_contexts:\n",
    "            context_tokens = text_to_tensor(context, ctoi)\n",
    "            predicted_tokens = model.predict_argmax(context_tokens, n_predictions)\n",
    "            predicted_text = tensor_to_text(predicted_tokens, itoc)\n",
    "            print(f\"{repr(context)} -> {repr(predicted_text)}\")\n",
    "\n",
    "        print(\"\\nProbabilistic predictions:\")\n",
    "        for context in test_contexts:\n",
    "            for _ in range(repeat):\n",
    "                predicted_tokens = model.predict_proba(context_tokens, n_predictions)\n",
    "                predicted_text = tensor_to_text(predicted_tokens, itoc)\n",
    "                print(f\"{repr(context)} -> {repr(predicted_text)}\")"
   ]
  },
  {
   "cell_type": "code",
   "execution_count": 11,
   "metadata": {},
   "outputs": [
    {
     "name": "stdout",
     "output_type": "stream",
     "text": [
      "Deterministic predictions:\n",
      "'The throne' -> ' the the the the the the the the the the the the the the the the the the the the'\n",
      "'Aragorn son of' -> ' the the the the the the the the the the the the the the the the the the the the'\n",
      "'He paused, ' -> 'the the the the the the the the the the the the the the the the the the the the '\n",
      "'the ring of ' -> 'the the the the the the the the the the the the the the the the the the the the '\n",
      "'suddenly' -> ' the the the the the the the the the the the the the the the the the the the the'\n",
      "'you cannot ' -> 'the the the the the the the the the the the the the the the the the the the the '\n",
      "'I am a servant of the Secret Fire' -> ' the the the the the the the the the the the the the the the the the the the the'\n",
      "\n",
      "Probabilistic predictions:\n",
      "'The throne' -> 'sif e. Dod, sceameremp aiknt and so ano dond onght f o vichut hondeathalf ollom '\n",
      "'The throne' -> ' ll delyeand ot. Iby dokse we heathene fl bemee re fanan ifathes s grathive-ve w'\n",
      "'The throne' -> 'l lyend h odey she hesovim caink. Fe ut. He sesiermy le: bere arceod tous, m.  I'\n",
      "'The throne' -> \"e if Xwain raing ealdy most minghe. He cad sasasind haidor! hy '\\n     Bomein Fou\"\n",
      "'Aragorn son of' -> ' mehabp bunged, I nerkeleve ithe; t andeitaworeve ad wand sain The\\n       Fadeef'\n",
      "'Aragorn son of' -> \" cthelin wne se tosne and coplit doure pond the, Cred!'\\n\\n            lemeproupre\"\n",
      "'Aragorn son of' -> ' il, oolid s sthis Filenin bigatit han che hitha hig f Shasthe tsellu spat ored '\n",
      "'Aragorn son of' -> ', th panong ant ve lleanerwind heamo d feact chindy ndastoud ane, ca morilo sthe'\n",
      "'He paused, ' -> ' thaby y iplad win tho he heywaran he this ng, we Ol me oundang Frwathemas wed. '\n",
      "'He paused, ' -> 'an ild owo way Bof yarea ank, he fireng, Rind the d lane woave agh le anghoutizn'\n",
      "'He paused, ' -> 'mme; wan orow swh thair ilise alle ith Otonid s.\\n\\n          Say Wago hanit t.\\n  '\n",
      "'He paused, ' -> ' stherlen.\\n       I knooad at fr-Up tomyo gog the ben ay there mishtin w f Wige '\n",
      "'the ring of ' -> \"d heat the ee!\\n       dain  s,\\n      '_I note sat ecand acerolby wiks moo r thed\"\n",
      "'the ring of ' -> \"ure hess.'d Co!'\\n  'Nonok hide t  measayoaw vemed t y herin int fom; d yord qumb\"\n",
      "'the ring of ' -> ' lvenp frombem winghins ant we Sanminthhre w damuthenichrg woure witoom. Frave: '\n",
      "'the ring of ' -> ' n fa goron ld be ppem, thee theyhanos at wale thand t cre flame in sthe sonsher'\n",
      "'suddenly' -> \", caden innghim at hof we ch daveno aspireny te heg, d un sat seaod fd.\\n    '\\n  \"\n",
      "'suddenly' -> ' imeen bes fombeeaif. A Yod. The aras ovany t treruintil of ofl thin mpfeouzon s'\n",
      "'suddenly' -> \"ce lat, ben,'bond id Abemplan an wow s thane whéove thowey pemy siisely y, ail I\"\n",
      "'suddenly' -> \"annges s bolanghis. Thimid nk fis hanor isthhipad averng Bon'\\n         wrellalis\"\n",
      "'you cannot ' -> \" to th thirouthed as Ant roof bea be a tholage, ckst nghearit,' d.' I dere palee\"\n",
      "'you cannot ' -> ' taces awat theroftheand bef me topling he tenderig be indrer. Sckingain hero w '\n",
      "'you cannot ' -> \", st strin the le thet to buhane ggil Enkes, be sofof Murk or. Anil!'\\n  '\\n  '\\n  \"\n",
      "'you cannot ' -> 'd eck themeland thougor morlor. se we I wowin t, andois athe m hethominc s, buth'\n",
      "'I am a servant of the Secret Fire' -> ' s o asson find. He an mllly.\\n   I   asorot areris he she she orme g, there tham'\n",
      "'I am a servant of the Secret Fire' -> 'd dgour w theraer cheater.\\n      `I Sheyow sean ke and d. I sou wiar end ind he '\n",
      "'I am a servant of the Secret Fire' -> \".'\\n    Athendgand have eher ubbbrt bathar d hanourd nththaveang the ve in t male\"\n",
      "'I am a servant of the Secret Fire' -> \"ed modeted. Orers u's ovenimont whilll ted astuplck,'s oughes tinewird ike lle I\"\n"
     ]
    }
   ],
   "source": [
    "test_contexts = (\n",
    "    \"The throne\",\n",
    "    \"Aragorn son of\",\n",
    "    \"He paused, \",\n",
    "    \"the ring of \",\n",
    "    \"suddenly\",\n",
    "    \"you cannot \",\n",
    "    \"I am a servant of the Secret Fire\",\n",
    ")\n",
    "model.to(cpu)\n",
    "model.eval()\n",
    "print_prediction_examples(model, test_contexts, 80)"
   ]
  },
  {
   "cell_type": "code",
   "execution_count": null,
   "metadata": {},
   "outputs": [],
   "source": []
  }
 ],
 "metadata": {
  "kernelspec": {
   "display_name": "ml-pytorch",
   "language": "python",
   "name": "python3"
  },
  "language_info": {
   "codemirror_mode": {
    "name": "ipython",
    "version": 3
   },
   "file_extension": ".py",
   "mimetype": "text/x-python",
   "name": "python",
   "nbconvert_exporter": "python",
   "pygments_lexer": "ipython3",
   "version": "3.11.8"
  }
 },
 "nbformat": 4,
 "nbformat_minor": 2
}
