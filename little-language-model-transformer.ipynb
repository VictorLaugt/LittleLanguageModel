{
 "cells": [
  {
   "cell_type": "code",
   "execution_count": null,
   "metadata": {},
   "outputs": [],
   "source": [
    "import torch\n",
    "from torch.optim import SGD, Adam\n",
    "from torch.optim.lr_scheduler import ReduceLROnPlateau, CyclicLR\n",
    "\n",
    "import matplotlib.pyplot as plt\n",
    "import numpy as np\n",
    "from pathlib import Path"
   ]
  },
  {
   "cell_type": "code",
   "execution_count": null,
   "metadata": {},
   "outputs": [],
   "source": [
    "%load_ext autoreload\n",
    "%autoreload 2\n",
    "\n",
    "from llm.data import load_dataset, text_to_tensor, tensor_to_text\n",
    "from llm.training import TransformerLMTrainingLoop, TrainingLogs\n",
    "from llm.transformer import CharGenerativeTransformer"
   ]
  },
  {
   "cell_type": "code",
   "execution_count": null,
   "metadata": {},
   "outputs": [],
   "source": [
    "device = torch.device('cuda' if torch.cuda.is_available() else 'cpu')\n",
    "cpu = torch.device('cpu')"
   ]
  },
  {
   "cell_type": "code",
   "execution_count": null,
   "metadata": {},
   "outputs": [],
   "source": [
    "(train_dataset, valid_dataset), ctoi, itoc = load_dataset(\n",
    "    Path(\"dataset\", \"lotr.txt\"), slice(0, 2_000_000), slice(2_000_000, None)\n",
    ")\n",
    "\n",
    "print(f\"Train dataset length:      {len(train_dataset)} characters\")\n",
    "print(f\"Validation dataset length: {len(valid_dataset)} characters\")"
   ]
  },
  {
   "cell_type": "code",
   "execution_count": null,
   "metadata": {},
   "outputs": [],
   "source": [
    "sequence_length = 256\n",
    "\n",
    "model = CharGenerativeTransformer(\n",
    "    vocab_size=len(ctoi),\n",
    "    seq_length=sequence_length,\n",
    "    embedding_dim=64,\n",
    "    latent_dim=256,\n",
    "    n_heads=8,\n",
    "    n_layers=4\n",
    ")\n",
    "\n",
    "print(model)\n",
    "print(f\"Number of parameters: {sum(p.numel() for p in model.parameters())}\")"
   ]
  },
  {
   "cell_type": "code",
   "execution_count": null,
   "metadata": {},
   "outputs": [],
   "source": [
    "optimizer = Adam(model.parameters(), lr=1e-3)\n",
    "scheduler = ReduceLROnPlateau(optimizer, factor=0.8, patience=25)\n",
    "\n",
    "print(optimizer)"
   ]
  },
  {
   "cell_type": "code",
   "execution_count": null,
   "metadata": {},
   "outputs": [],
   "source": [
    "n_epochs = 1000\n",
    "batch_size = 32\n",
    "# batch_size = 16\n",
    "\n",
    "training_loop = TransformerLMTrainingLoop(\n",
    "    device, n_epochs, sequence_length, batch_size,\n",
    "    train_dataset, valid_dataset,\n",
    "    model, optimizer, scheduler\n",
    ")\n",
    "\n",
    "with TrainingLogs() as logs:\n",
    "    training_loop.run(logs)"
   ]
  },
  {
   "cell_type": "code",
   "execution_count": null,
   "metadata": {},
   "outputs": [],
   "source": [
    "def display_training_review(train_losses, valid_losses=None, learning_rates=None):\n",
    "    fig, ax = plt.subplots()\n",
    "\n",
    "    ax.set_title(\"Cross entropy over the epochs\")\n",
    "    ax.plot(train_losses, label=\"train loss\")\n",
    "    if valid_losses is not None:\n",
    "        ax.plot(valid_losses, label=\"valid loss\")\n",
    "        best_valid_epoch = np.argmin(valid_losses)\n",
    "        best_valid = valid_losses[best_valid_epoch]\n",
    "        ax.plot(best_valid_epoch, best_valid, 'or')\n",
    "        ax.text(best_valid_epoch, best_valid, f\"({best_valid_epoch}, {best_valid:.6f})\", ha='center', va='top', color='red')\n",
    "    ax.legend(loc='upper right')\n",
    "    ax.set_xlabel(\"epoch\")\n",
    "    ax.set_ylabel(\"loss\")\n",
    "    ax.grid()\n",
    "\n",
    "    if learning_rates is not None:\n",
    "        lr_ax = ax.twinx()\n",
    "        lr_ax.plot(learning_rates, ':r', label='learning rate')\n",
    "        lr_ax.set_xlabel(\"epoch\")\n",
    "        lr_ax.set_ylabel(\"learning rate\")\n",
    "        lr_ax.legend(loc='lower left')\n",
    "\n",
    "    fig.tight_layout()\n",
    "    plt.show()"
   ]
  },
  {
   "cell_type": "code",
   "execution_count": null,
   "metadata": {},
   "outputs": [],
   "source": [
    "print(f\"Training time: {logs.ellapsed_time:.0f} seconds\")\n",
    "display_training_review(logs.train_loss, logs.valid_loss, logs.lr)"
   ]
  },
  {
   "cell_type": "code",
   "execution_count": null,
   "metadata": {},
   "outputs": [],
   "source": [
    "def print_prediction_examples(model, test_contexts, n_predictions=80, repeat=4):\n",
    "    model.eval()\n",
    "\n",
    "    with torch.no_grad():\n",
    "        print(\"Deterministic predictions:\")\n",
    "        for context in test_contexts:\n",
    "            context_tokens = text_to_tensor(context, ctoi)\n",
    "            predicted_tokens = model.predict_argmax(context_tokens, n_predictions)\n",
    "            predicted_text = tensor_to_text(predicted_tokens, itoc)\n",
    "            print(f\"{repr(context)} -> {repr(predicted_text)}\")\n",
    "\n",
    "        print(\"\\nProbabilistic predictions:\")\n",
    "        for context in test_contexts:\n",
    "            for _ in range(repeat):\n",
    "                predicted_tokens = model.predict_proba(context_tokens, n_predictions)\n",
    "                predicted_text = tensor_to_text(predicted_tokens, itoc)\n",
    "                print(f\"{repr(context)} -> {repr(predicted_text)}\")"
   ]
  },
  {
   "cell_type": "code",
   "execution_count": null,
   "metadata": {},
   "outputs": [],
   "source": [
    "test_contexts = (\n",
    "    \"The throne\",\n",
    "    \"Aragorn son of\",\n",
    "    \"He paused, \",\n",
    "    \"the ring of \",\n",
    "    \"suddenly\",\n",
    "    \"you cannot \",\n",
    "    \"I am a servant of the Secret Fire\",\n",
    ")\n",
    "model.to(cpu)\n",
    "model.eval()\n",
    "print_prediction_examples(model, test_contexts, 80)"
   ]
  }
 ],
 "metadata": {
  "kernelspec": {
   "display_name": "ml-pytorch",
   "language": "python",
   "name": "python3"
  },
  "language_info": {
   "codemirror_mode": {
    "name": "ipython",
    "version": 3
   },
   "file_extension": ".py",
   "mimetype": "text/x-python",
   "name": "python",
   "nbconvert_exporter": "python",
   "pygments_lexer": "ipython3",
   "version": "3.11.8"
  }
 },
 "nbformat": 4,
 "nbformat_minor": 2
}
